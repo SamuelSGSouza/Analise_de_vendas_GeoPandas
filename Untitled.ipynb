{
 "cells": [
  {
   "cell_type": "markdown",
   "metadata": {},
   "source": [
    "# Importando Bibliotecas"
   ]
  },
  {
   "cell_type": "code",
   "execution_count": 2,
   "metadata": {},
   "outputs": [],
   "source": [
    "%matplotlib inline\n",
    "import pandas as pd\n",
    "import geopandas as gpd\n",
    "from shapely.geometry import Polygon, Point, LineString, MultiPolygon\n",
    "import os\n",
    "import warnings\n",
    "warnings.simplefilter(action='ignore', category=FutureWarning)"
   ]
  },
  {
   "cell_type": "markdown",
   "metadata": {},
   "source": [
    "# Fonte de dados"
   ]
  },
  {
   "cell_type": "raw",
   "metadata": {},
   "source": [
    "fonte dos dados: ftp://geoftp.ibge.gov.br/organizacao_do_territorio/malhas_territoriais/malhas_municipais/municipio_2017/UFs/"
   ]
  },
  {
   "cell_type": "code",
   "execution_count": 3,
   "metadata": {},
   "outputs": [
    {
     "data": {
      "text/html": [
       "<div>\n",
       "<style scoped>\n",
       "    .dataframe tbody tr th:only-of-type {\n",
       "        vertical-align: middle;\n",
       "    }\n",
       "\n",
       "    .dataframe tbody tr th {\n",
       "        vertical-align: top;\n",
       "    }\n",
       "\n",
       "    .dataframe thead th {\n",
       "        text-align: right;\n",
       "    }\n",
       "</style>\n",
       "<table border=\"1\" class=\"dataframe\">\n",
       "  <thead>\n",
       "    <tr style=\"text-align: right;\">\n",
       "      <th></th>\n",
       "      <th>ID</th>\n",
       "      <th>CD_GEOCODM</th>\n",
       "      <th>NM_MUNICIP</th>\n",
       "      <th>geometry</th>\n",
       "    </tr>\n",
       "  </thead>\n",
       "  <tbody>\n",
       "    <tr>\n",
       "      <th>0</th>\n",
       "      <td>1468</td>\n",
       "      <td>3300100</td>\n",
       "      <td>ANGRA DOS REIS</td>\n",
       "      <td>MULTIPOLYGON (((-44.33208 -23.02384, -44.33221...</td>\n",
       "    </tr>\n",
       "    <tr>\n",
       "      <th>1</th>\n",
       "      <td>1469</td>\n",
       "      <td>3300159</td>\n",
       "      <td>APERIBÉ</td>\n",
       "      <td>POLYGON ((-42.08950 -21.62893, -42.08912 -21.6...</td>\n",
       "    </tr>\n",
       "    <tr>\n",
       "      <th>2</th>\n",
       "      <td>1470</td>\n",
       "      <td>3300209</td>\n",
       "      <td>ARARUAMA</td>\n",
       "      <td>POLYGON ((-42.22526 -22.59253, -42.22521 -22.5...</td>\n",
       "    </tr>\n",
       "    <tr>\n",
       "      <th>3</th>\n",
       "      <td>1471</td>\n",
       "      <td>3300225</td>\n",
       "      <td>AREAL</td>\n",
       "      <td>POLYGON ((-43.16007 -22.20005, -43.16003 -22.1...</td>\n",
       "    </tr>\n",
       "    <tr>\n",
       "      <th>4</th>\n",
       "      <td>1472</td>\n",
       "      <td>3300233</td>\n",
       "      <td>ARMAÇÃO DOS BÚZIOS</td>\n",
       "      <td>MULTIPOLYGON (((-41.98427 -22.74458, -41.98296...</td>\n",
       "    </tr>\n",
       "    <tr>\n",
       "      <th>...</th>\n",
       "      <td>...</td>\n",
       "      <td>...</td>\n",
       "      <td>...</td>\n",
       "      <td>...</td>\n",
       "    </tr>\n",
       "    <tr>\n",
       "      <th>87</th>\n",
       "      <td>1555</td>\n",
       "      <td>3306008</td>\n",
       "      <td>TRÊS RIOS</td>\n",
       "      <td>POLYGON ((-43.13666 -22.10933, -43.13182 -22.1...</td>\n",
       "    </tr>\n",
       "    <tr>\n",
       "      <th>88</th>\n",
       "      <td>1556</td>\n",
       "      <td>3306107</td>\n",
       "      <td>VALENÇA</td>\n",
       "      <td>POLYGON ((-43.82120 -22.08844, -43.82101 -22.0...</td>\n",
       "    </tr>\n",
       "    <tr>\n",
       "      <th>89</th>\n",
       "      <td>1557</td>\n",
       "      <td>3306156</td>\n",
       "      <td>VARRE-SAI</td>\n",
       "      <td>POLYGON ((-41.82695 -20.84164, -41.82686 -20.8...</td>\n",
       "    </tr>\n",
       "    <tr>\n",
       "      <th>90</th>\n",
       "      <td>1558</td>\n",
       "      <td>3306206</td>\n",
       "      <td>VASSOURAS</td>\n",
       "      <td>POLYGON ((-43.61208 -22.30841, -43.61113 -22.3...</td>\n",
       "    </tr>\n",
       "    <tr>\n",
       "      <th>91</th>\n",
       "      <td>1559</td>\n",
       "      <td>3306305</td>\n",
       "      <td>VOLTA REDONDA</td>\n",
       "      <td>POLYGON ((-44.13912 -22.53062, -44.13878 -22.5...</td>\n",
       "    </tr>\n",
       "  </tbody>\n",
       "</table>\n",
       "<p>92 rows × 4 columns</p>\n",
       "</div>"
      ],
      "text/plain": [
       "      ID CD_GEOCODM          NM_MUNICIP  \\\n",
       "0   1468    3300100      ANGRA DOS REIS   \n",
       "1   1469    3300159             APERIBÉ   \n",
       "2   1470    3300209            ARARUAMA   \n",
       "3   1471    3300225               AREAL   \n",
       "4   1472    3300233  ARMAÇÃO DOS BÚZIOS   \n",
       "..   ...        ...                 ...   \n",
       "87  1555    3306008           TRÊS RIOS   \n",
       "88  1556    3306107             VALENÇA   \n",
       "89  1557    3306156           VARRE-SAI   \n",
       "90  1558    3306206           VASSOURAS   \n",
       "91  1559    3306305       VOLTA REDONDA   \n",
       "\n",
       "                                             geometry  \n",
       "0   MULTIPOLYGON (((-44.33208 -23.02384, -44.33221...  \n",
       "1   POLYGON ((-42.08950 -21.62893, -42.08912 -21.6...  \n",
       "2   POLYGON ((-42.22526 -22.59253, -42.22521 -22.5...  \n",
       "3   POLYGON ((-43.16007 -22.20005, -43.16003 -22.1...  \n",
       "4   MULTIPOLYGON (((-41.98427 -22.74458, -41.98296...  \n",
       "..                                                ...  \n",
       "87  POLYGON ((-43.13666 -22.10933, -43.13182 -22.1...  \n",
       "88  POLYGON ((-43.82120 -22.08844, -43.82101 -22.0...  \n",
       "89  POLYGON ((-41.82695 -20.84164, -41.82686 -20.8...  \n",
       "90  POLYGON ((-43.61208 -22.30841, -43.61113 -22.3...  \n",
       "91  POLYGON ((-44.13912 -22.53062, -44.13878 -22.5...  \n",
       "\n",
       "[92 rows x 4 columns]"
      ]
     },
     "execution_count": 3,
     "metadata": {},
     "output_type": "execute_result"
    }
   ],
   "source": [
    "rj_estado = gpd.read_file(\"33MUE250GC_SIR.shp\")\n",
    "rj_estado"
   ]
  },
  {
   "cell_type": "code",
   "execution_count": 4,
   "metadata": {},
   "outputs": [
    {
     "data": {
      "text/plain": [
       "geopandas.geodataframe.GeoDataFrame"
      ]
     },
     "execution_count": 4,
     "metadata": {},
     "output_type": "execute_result"
    }
   ],
   "source": [
    "type(rj_estado)\n",
    "# como visto aqui, a associação de dados como geo_dados se assemelha à criação de DataFrames comuns"
   ]
  },
  {
   "cell_type": "code",
   "execution_count": 5,
   "metadata": {},
   "outputs": [
    {
     "data": {
      "text/plain": [
       "<matplotlib.axes._subplots.AxesSubplot at 0x2aa04f862e0>"
      ]
     },
     "execution_count": 5,
     "metadata": {},
     "output_type": "execute_result"
    },
    {
     "data": {
      "image/png": "[encoded data removed]",
      "text/plain": [
       "<Figure size 1080x576 with 1 Axes>"
      ]
     },
     "metadata": {
      "needs_background": "light"
     },
     "output_type": "display_data"
    }
   ],
   "source": [
    "rj_estado.plot(figsize=(15,8))\n",
    "#verificando o dataframe, vemos que ele possui a coluna \"geometry\". Essa coluna possui uma tupla de valores de poligonos que quando são considerados em conjunto, se tornam mutipoligonos"
   ]
  },
  {
   "cell_type": "code",
   "execution_count": 6,
   "metadata": {},
   "outputs": [
    {
     "data": {
      "text/plain": [
       "<matplotlib.axes._subplots.AxesSubplot at 0x2aa050a5d90>"
      ]
     },
     "execution_count": 6,
     "metadata": {},
     "output_type": "execute_result"
    },
    {
     "data": {
      "image/png": "[encoded data removed]",
      "text/plain": [
       "<Figure size 432x288 with 1 Axes>"
      ]
     },
     "metadata": {
      "needs_background": "light"
     },
     "output_type": "display_data"
    }
   ],
   "source": [
    "p1 = Polygon([(0,0), (1,0), (1,1), (0,1)])\n",
    "p2 = Polygon([(0,0), (1,0), (1,1)])\n",
    "p3 = Polygon([(2,0), (3,0), (3,1), (2,1)])\n",
    "p4 = LineString([(0,1), (3,0), (1,1)])\n",
    "p5 = Point(0.5, 0.5)\n",
    "\n",
    "g = gpd.GeoSeries([p1,p2, p3, p4, p5])\n",
    "g.plot(cmap=\"tab20\")"
   ]
  },
  {
   "cell_type": "code",
   "execution_count": 7,
   "metadata": {},
   "outputs": [],
   "source": [
    "dir = \"../GeoPandas - GeoPandas Parte 1/mapas/RJ-MUNIC\"\n",
    "if not os.path.exists(dir):\n",
    "    os.makedirs(dir)"
   ]
  },
  {
   "cell_type": "code",
   "execution_count": 8,
   "metadata": {},
   "outputs": [],
   "source": [
    "rj_munic = rj_estado[rj_estado[\"NM_MUNICIP\"] == \"RIO DE JANEIRO\"]\n",
    "rj_munic.to_file(\"../GeoPandas - GeoPandas Parte 1/mapas/RJ-MUNIC/rj_munic.shp\")\n",
    "#selecionando da base de dados, apenas os dados que são do município do rio de janeiro"
   ]
  },
  {
   "cell_type": "code",
   "execution_count": 9,
   "metadata": {},
   "outputs": [
    {
     "data": {
      "text/plain": [
       "<matplotlib.axes._subplots.AxesSubplot at 0x2aa05142f10>"
      ]
     },
     "execution_count": 9,
     "metadata": {},
     "output_type": "execute_result"
    },
    {
     "data": {
      "image/png": "[encoded data removed]",
      "text/plain": [
       "<Figure size 432x288 with 1 Axes>"
      ]
     },
     "metadata": {
      "needs_background": "light"
     },
     "output_type": "display_data"
    }
   ],
   "source": [
    "p1 = Polygon([(0,0), (1,0), (1,1), (0,1)])\n",
    "p2 = Polygon([(0,0), (1,0), (1,1)])\n",
    "p3 = Polygon([(2,0), (3,0), (3,1), (2,1)])\n",
    "p4 = LineString([(0,1), (3,0), (1,1)])\n",
    "p5 = Point(0.5, 0.5)\n",
    "\n",
    "g = gpd.GeoSeries([p1,p2, p3, p4, p5])\n",
    "g.plot(cmap=\"tab20\")"
   ]
  },
  {
   "cell_type": "code",
   "execution_count": 10,
   "metadata": {},
   "outputs": [],
   "source": [
    "import os\n",
    "\n",
    "dir = \"../GeoPandas - GeoPandas Parte 1/mapas/RJ-MUNIC\"\n",
    "if not os.path.exists(dir):\n",
    "    os.makedirs(dir)\n",
    "    \n",
    "#importando \"operacional system\" e criando pasta caso ela não exista"
   ]
  },
  {
   "cell_type": "code",
   "execution_count": 12,
   "metadata": {},
   "outputs": [
    {
     "data": {
      "text/html": [
       "<div>\n",
       "<style scoped>\n",
       "    .dataframe tbody tr th:only-of-type {\n",
       "        vertical-align: middle;\n",
       "    }\n",
       "\n",
       "    .dataframe tbody tr th {\n",
       "        vertical-align: top;\n",
       "    }\n",
       "\n",
       "    .dataframe thead th {\n",
       "        text-align: right;\n",
       "    }\n",
       "</style>\n",
       "<table border=\"1\" class=\"dataframe\">\n",
       "  <thead>\n",
       "    <tr style=\"text-align: right;\">\n",
       "      <th></th>\n",
       "      <th>ID</th>\n",
       "      <th>CD_GEOCODM</th>\n",
       "      <th>NM_MUNICIP</th>\n",
       "      <th>geometry</th>\n",
       "    </tr>\n",
       "  </thead>\n",
       "  <tbody>\n",
       "    <tr>\n",
       "      <th>67</th>\n",
       "      <td>1535</td>\n",
       "      <td>3304557</td>\n",
       "      <td>RIO DE JANEIRO</td>\n",
       "      <td>MULTIPOLYGON (((-43.12376 -22.80712, -43.12380...</td>\n",
       "    </tr>\n",
       "  </tbody>\n",
       "</table>\n",
       "</div>"
      ],
      "text/plain": [
       "      ID CD_GEOCODM      NM_MUNICIP  \\\n",
       "67  1535    3304557  RIO DE JANEIRO   \n",
       "\n",
       "                                             geometry  \n",
       "67  MULTIPOLYGON (((-43.12376 -22.80712, -43.12380...  "
      ]
     },
     "execution_count": 12,
     "metadata": {},
     "output_type": "execute_result"
    }
   ],
   "source": [
    "rj_munic = rj_munic[rj_munic[\"NM_MUNICIP\"] == \"RIO DE JANEIRO\"]\n",
    "rj_munic\n",
    "#selecionando da base de dados, apenas os dados que são do município do rio de janeiro"
   ]
  },
  {
   "cell_type": "code",
   "execution_count": 13,
   "metadata": {},
   "outputs": [
    {
     "data": {
      "text/html": [
       "<div>\n",
       "<style scoped>\n",
       "    .dataframe tbody tr th:only-of-type {\n",
       "        vertical-align: middle;\n",
       "    }\n",
       "\n",
       "    .dataframe tbody tr th {\n",
       "        vertical-align: top;\n",
       "    }\n",
       "\n",
       "    .dataframe thead th {\n",
       "        text-align: right;\n",
       "    }\n",
       "</style>\n",
       "<table border=\"1\" class=\"dataframe\">\n",
       "  <thead>\n",
       "    <tr style=\"text-align: right;\">\n",
       "      <th></th>\n",
       "      <th>ID</th>\n",
       "      <th>CD_GEOCODM</th>\n",
       "      <th>NM_MUNICIP</th>\n",
       "      <th>geometry</th>\n",
       "    </tr>\n",
       "  </thead>\n",
       "  <tbody>\n",
       "    <tr>\n",
       "      <th>0</th>\n",
       "      <td>1535</td>\n",
       "      <td>3304557</td>\n",
       "      <td>RIO DE JANEIRO</td>\n",
       "      <td>MULTIPOLYGON (((-43.12376 -22.80712, -43.12380...</td>\n",
       "    </tr>\n",
       "  </tbody>\n",
       "</table>\n",
       "</div>"
      ],
      "text/plain": [
       "     ID CD_GEOCODM      NM_MUNICIP  \\\n",
       "0  1535    3304557  RIO DE JANEIRO   \n",
       "\n",
       "                                            geometry  \n",
       "0  MULTIPOLYGON (((-43.12376 -22.80712, -43.12380...  "
      ]
     },
     "execution_count": 13,
     "metadata": {},
     "output_type": "execute_result"
    }
   ],
   "source": [
    "rj_munic = gpd.read_file(\"../GeoPandas - GeoPandas Parte 1/mapas/RJ-MUNIC/rj_munic.shp\")\n",
    "rj_munic"
   ]
  },
  {
   "cell_type": "code",
   "execution_count": 14,
   "metadata": {},
   "outputs": [
    {
     "data": {
      "text/plain": [
       "<matplotlib.axes._subplots.AxesSubplot at 0x2aa05196280>"
      ]
     },
     "execution_count": 14,
     "metadata": {},
     "output_type": "execute_result"
    },
    {
     "data": {
      "image/png": "[encoded data removed]",
      "text/plain": [
       "<Figure size 432x288 with 1 Axes>"
      ]
     },
     "metadata": {
      "needs_background": "light"
     },
     "output_type": "display_data"
    }
   ],
   "source": [
    "rj_munic.plot()"
   ]
  },
  {
   "cell_type": "code",
   "execution_count": 15,
   "metadata": {},
   "outputs": [
    {
     "data": {
      "text/html": [
       "<div>\n",
       "<style scoped>\n",
       "    .dataframe tbody tr th:only-of-type {\n",
       "        vertical-align: middle;\n",
       "    }\n",
       "\n",
       "    .dataframe tbody tr th {\n",
       "        vertical-align: top;\n",
       "    }\n",
       "\n",
       "    .dataframe thead th {\n",
       "        text-align: right;\n",
       "    }\n",
       "</style>\n",
       "<table border=\"1\" class=\"dataframe\">\n",
       "  <thead>\n",
       "    <tr style=\"text-align: right;\">\n",
       "      <th></th>\n",
       "      <th>Area</th>\n",
       "      <th>Bairro</th>\n",
       "      <th>Cidade</th>\n",
       "      <th>Endereco</th>\n",
       "      <th>Estado</th>\n",
       "      <th>Latitude</th>\n",
       "      <th>Longitude</th>\n",
       "      <th>Quartos</th>\n",
       "      <th>Suites</th>\n",
       "      <th>Vagas</th>\n",
       "      <th>Tipo</th>\n",
       "      <th>Transacao</th>\n",
       "      <th>Valor</th>\n",
       "    </tr>\n",
       "  </thead>\n",
       "  <tbody>\n",
       "    <tr>\n",
       "      <th>0</th>\n",
       "      <td>138</td>\n",
       "      <td>Recreio dos Bandeirantes</td>\n",
       "      <td>Rio de Janeiro</td>\n",
       "      <td>Rua Vicente Scofano</td>\n",
       "      <td>RJ</td>\n",
       "      <td>-23.016455</td>\n",
       "      <td>-43.462946</td>\n",
       "      <td>3</td>\n",
       "      <td>1</td>\n",
       "      <td>3</td>\n",
       "      <td>Apartamento</td>\n",
       "      <td>Venda</td>\n",
       "      <td>1095000</td>\n",
       "    </tr>\n",
       "    <tr>\n",
       "      <th>1</th>\n",
       "      <td>133</td>\n",
       "      <td>Freguesia (Jacarepaguá)</td>\n",
       "      <td>Rio de Janeiro</td>\n",
       "      <td>Rua Potiguara</td>\n",
       "      <td>RJ</td>\n",
       "      <td>-22.943199</td>\n",
       "      <td>-43.336911</td>\n",
       "      <td>3</td>\n",
       "      <td>1</td>\n",
       "      <td>2</td>\n",
       "      <td>Apartamento</td>\n",
       "      <td>Venda</td>\n",
       "      <td>650000</td>\n",
       "    </tr>\n",
       "    <tr>\n",
       "      <th>2</th>\n",
       "      <td>46</td>\n",
       "      <td>Pilares</td>\n",
       "      <td>Rio de Janeiro</td>\n",
       "      <td>Rua Professor Carneiro Felipe</td>\n",
       "      <td>RJ</td>\n",
       "      <td>-22.873849</td>\n",
       "      <td>-43.300517</td>\n",
       "      <td>1</td>\n",
       "      <td>0</td>\n",
       "      <td>0</td>\n",
       "      <td>Apartamento</td>\n",
       "      <td>Venda</td>\n",
       "      <td>150000</td>\n",
       "    </tr>\n",
       "    <tr>\n",
       "      <th>3</th>\n",
       "      <td>65</td>\n",
       "      <td>Barra da Tijuca</td>\n",
       "      <td>Rio de Janeiro</td>\n",
       "      <td>Avenida Salvador Allende</td>\n",
       "      <td>RJ</td>\n",
       "      <td>-22.984787</td>\n",
       "      <td>-43.412703</td>\n",
       "      <td>2</td>\n",
       "      <td>1</td>\n",
       "      <td>1</td>\n",
       "      <td>Apartamento</td>\n",
       "      <td>Venda</td>\n",
       "      <td>430000</td>\n",
       "    </tr>\n",
       "    <tr>\n",
       "      <th>4</th>\n",
       "      <td>85</td>\n",
       "      <td>Gávea</td>\n",
       "      <td>Rio de Janeiro</td>\n",
       "      <td>Rua Marquês de São Vicente</td>\n",
       "      <td>RJ</td>\n",
       "      <td>-14.235004</td>\n",
       "      <td>-51.925280</td>\n",
       "      <td>2</td>\n",
       "      <td>1</td>\n",
       "      <td>2</td>\n",
       "      <td>Apartamento</td>\n",
       "      <td>Venda</td>\n",
       "      <td>1800000</td>\n",
       "    </tr>\n",
       "  </tbody>\n",
       "</table>\n",
       "</div>"
      ],
      "text/plain": [
       "   Area                    Bairro          Cidade  \\\n",
       "0   138  Recreio dos Bandeirantes  Rio de Janeiro   \n",
       "1   133   Freguesia (Jacarepaguá)  Rio de Janeiro   \n",
       "2    46                   Pilares  Rio de Janeiro   \n",
       "3    65           Barra da Tijuca  Rio de Janeiro   \n",
       "4    85                     Gávea  Rio de Janeiro   \n",
       "\n",
       "                        Endereco Estado   Latitude  Longitude  Quartos  \\\n",
       "0            Rua Vicente Scofano     RJ -23.016455 -43.462946        3   \n",
       "1                  Rua Potiguara     RJ -22.943199 -43.336911        3   \n",
       "2  Rua Professor Carneiro Felipe     RJ -22.873849 -43.300517        1   \n",
       "3       Avenida Salvador Allende     RJ -22.984787 -43.412703        2   \n",
       "4     Rua Marquês de São Vicente     RJ -14.235004 -51.925280        2   \n",
       "\n",
       "   Suites  Vagas         Tipo Transacao    Valor  \n",
       "0       1      3  Apartamento     Venda  1095000  \n",
       "1       1      2  Apartamento     Venda   650000  \n",
       "2       0      0  Apartamento     Venda   150000  \n",
       "3       1      1  Apartamento     Venda   430000  \n",
       "4       1      2  Apartamento     Venda  1800000  "
      ]
     },
     "execution_count": 15,
     "metadata": {},
     "output_type": "execute_result"
    }
   ],
   "source": [
    "dados = pd.read_table(\"dados.txt\")\n",
    "dados.head()"
   ]
  },
  {
   "cell_type": "code",
   "execution_count": 16,
   "metadata": {},
   "outputs": [],
   "source": [
    "geometry = [Point(x) for x in zip(dados.Longitude, dados.Latitude)]\n",
    "#criando um objeto iterável a partir dos dados de latitude e longitude e iterando sobre eles parar gerar uma lista de \"points\" do geometry."
   ]
  },
  {
   "cell_type": "raw",
   "metadata": {},
   "source": [
    "o sistema de referencia de coordenadas, ou somente \"crs\" é oque define como os dados geoespaciais serão interpretados e posteriormente plotados. o sistema crs é composto de uma série de fatores que juntos determinam a consideração final da interpretção.\n",
    "Sempre que dois GeoDataFrames forem ser comparados, é importante unificar os sistemas de coordenadas deles, senão haverão erros de de projeção, unidades de medida e etc.\n",
    "Os três parâmetros mais comuns são:\n",
    "Projeção - Trata-se da criação de uma representação bidimensional do globo terrestre. Pelo fato do globo terrestre não ser uma esfera perfeita, é quase impossível represntá-lo bidimensionalmente sem haver perdas de informação. A projeção é justamente a fórmula de interpretação, ou bidimensionamento que será utilizada para essa transferencia de globo para mapa bidimensional.\n",
    "ELLPS - A terra não é uma esfera, ela é uma elipse. todos os sistemas de coordenadas consideram esse fato, porém existem diversos tipos de elipses. O parâmetro \"ELLPS\" é justamente o que define qual será o formato de elipse utilizado como base para a projeção.\n",
    "DATUM - É o responsável por determinar as coordenadas da terra. isto é, a origem dos eixos de coordenadas que serão utilizadas na projeção. O sistema de coordenadas adotado oficialmente no Brasil é o SIRGAS 2000. Isso por que ele fornece uma representação melhor do continente sulamericano."
   ]
  },
  {
   "cell_type": "code",
   "execution_count": 17,
   "metadata": {},
   "outputs": [
    {
     "data": {
      "text/plain": [
       "<matplotlib.axes._subplots.AxesSubplot at 0x2aa05510a00>"
      ]
     },
     "execution_count": 17,
     "metadata": {},
     "output_type": "execute_result"
    },
    {
     "data": {
      "image/png": "[encoded data removed]",
      "text/plain": [
       "<Figure size 432x288 with 1 Axes>"
      ]
     },
     "metadata": {
      "needs_background": "light"
     },
     "output_type": "display_data"
    }
   ],
   "source": [
    "crs = {'proj': 'lastlong', 'ellps': 'WGS84', 'datum': 'WGS84', 'no_defs': True}\n",
    "#site para encontrar o crs: https://spatialreference.org/\n",
    "geo_dados = gpd.GeoDataFrame(dados, crs = crs, geometry = geometry)\n",
    "geo_dados.plot(alpha=0.2)"
   ]
  },
  {
   "cell_type": "code",
   "execution_count": 18,
   "metadata": {},
   "outputs": [
    {
     "data": {
      "text/plain": [
       "{'init': 'epsg:4674'}"
      ]
     },
     "execution_count": 18,
     "metadata": {},
     "output_type": "execute_result"
    }
   ],
   "source": [
    "rj_munic.crs"
   ]
  },
  {
   "cell_type": "raw",
   "metadata": {},
   "source": [
    "geo_dados.crs"
   ]
  },
  {
   "cell_type": "code",
   "execution_count": 19,
   "metadata": {},
   "outputs": [],
   "source": [
    "rj_munic.to_crs(\"+proj=utm +zone=23 +south +ellps=GRS80 +towgs84=0,0,0,0,0,0,0 +units=km +no_defs \", inplace = True)"
   ]
  },
  {
   "cell_type": "code",
   "execution_count": 22,
   "metadata": {},
   "outputs": [
    {
     "data": {
      "text/html": [
       "<div>\n",
       "<style scoped>\n",
       "    .dataframe tbody tr th:only-of-type {\n",
       "        vertical-align: middle;\n",
       "    }\n",
       "\n",
       "    .dataframe tbody tr th {\n",
       "        vertical-align: top;\n",
       "    }\n",
       "\n",
       "    .dataframe thead th {\n",
       "        text-align: right;\n",
       "    }\n",
       "</style>\n",
       "<table border=\"1\" class=\"dataframe\">\n",
       "  <thead>\n",
       "    <tr style=\"text-align: right;\">\n",
       "      <th></th>\n",
       "      <th>Area</th>\n",
       "      <th>Bairro</th>\n",
       "      <th>Cidade</th>\n",
       "      <th>Endereco</th>\n",
       "      <th>Estado</th>\n",
       "      <th>Latitude</th>\n",
       "      <th>Longitude</th>\n",
       "      <th>Quartos</th>\n",
       "      <th>Suites</th>\n",
       "      <th>Vagas</th>\n",
       "      <th>Tipo</th>\n",
       "      <th>Transacao</th>\n",
       "      <th>Valor</th>\n",
       "      <th>geometry</th>\n",
       "    </tr>\n",
       "  </thead>\n",
       "  <tbody>\n",
       "    <tr>\n",
       "      <th>0</th>\n",
       "      <td>138</td>\n",
       "      <td>Recreio dos Bandeirantes</td>\n",
       "      <td>Rio de Janeiro</td>\n",
       "      <td>Rua Vicente Scofano</td>\n",
       "      <td>RJ</td>\n",
       "      <td>-23.016455</td>\n",
       "      <td>-43.462946</td>\n",
       "      <td>3</td>\n",
       "      <td>1</td>\n",
       "      <td>3</td>\n",
       "      <td>Apartamento</td>\n",
       "      <td>Venda</td>\n",
       "      <td>1095000</td>\n",
       "      <td>POINT (-43.46295 -23.01646)</td>\n",
       "    </tr>\n",
       "    <tr>\n",
       "      <th>1</th>\n",
       "      <td>133</td>\n",
       "      <td>Freguesia (Jacarepaguá)</td>\n",
       "      <td>Rio de Janeiro</td>\n",
       "      <td>Rua Potiguara</td>\n",
       "      <td>RJ</td>\n",
       "      <td>-22.943199</td>\n",
       "      <td>-43.336911</td>\n",
       "      <td>3</td>\n",
       "      <td>1</td>\n",
       "      <td>2</td>\n",
       "      <td>Apartamento</td>\n",
       "      <td>Venda</td>\n",
       "      <td>650000</td>\n",
       "      <td>POINT (-43.33691 -22.94320)</td>\n",
       "    </tr>\n",
       "    <tr>\n",
       "      <th>2</th>\n",
       "      <td>46</td>\n",
       "      <td>Pilares</td>\n",
       "      <td>Rio de Janeiro</td>\n",
       "      <td>Rua Professor Carneiro Felipe</td>\n",
       "      <td>RJ</td>\n",
       "      <td>-22.873849</td>\n",
       "      <td>-43.300517</td>\n",
       "      <td>1</td>\n",
       "      <td>0</td>\n",
       "      <td>0</td>\n",
       "      <td>Apartamento</td>\n",
       "      <td>Venda</td>\n",
       "      <td>150000</td>\n",
       "      <td>POINT (-43.30052 -22.87385)</td>\n",
       "    </tr>\n",
       "    <tr>\n",
       "      <th>3</th>\n",
       "      <td>65</td>\n",
       "      <td>Barra da Tijuca</td>\n",
       "      <td>Rio de Janeiro</td>\n",
       "      <td>Avenida Salvador Allende</td>\n",
       "      <td>RJ</td>\n",
       "      <td>-22.984787</td>\n",
       "      <td>-43.412703</td>\n",
       "      <td>2</td>\n",
       "      <td>1</td>\n",
       "      <td>1</td>\n",
       "      <td>Apartamento</td>\n",
       "      <td>Venda</td>\n",
       "      <td>430000</td>\n",
       "      <td>POINT (-43.41270 -22.98479)</td>\n",
       "    </tr>\n",
       "    <tr>\n",
       "      <th>4</th>\n",
       "      <td>85</td>\n",
       "      <td>Gávea</td>\n",
       "      <td>Rio de Janeiro</td>\n",
       "      <td>Rua Marquês de São Vicente</td>\n",
       "      <td>RJ</td>\n",
       "      <td>-14.235004</td>\n",
       "      <td>-51.925280</td>\n",
       "      <td>2</td>\n",
       "      <td>1</td>\n",
       "      <td>2</td>\n",
       "      <td>Apartamento</td>\n",
       "      <td>Venda</td>\n",
       "      <td>1800000</td>\n",
       "      <td>POINT (-51.92528 -14.23500)</td>\n",
       "    </tr>\n",
       "  </tbody>\n",
       "</table>\n",
       "</div>"
      ],
      "text/plain": [
       "   Area                    Bairro          Cidade  \\\n",
       "0   138  Recreio dos Bandeirantes  Rio de Janeiro   \n",
       "1   133   Freguesia (Jacarepaguá)  Rio de Janeiro   \n",
       "2    46                   Pilares  Rio de Janeiro   \n",
       "3    65           Barra da Tijuca  Rio de Janeiro   \n",
       "4    85                     Gávea  Rio de Janeiro   \n",
       "\n",
       "                        Endereco Estado   Latitude  Longitude  Quartos  \\\n",
       "0            Rua Vicente Scofano     RJ -23.016455 -43.462946        3   \n",
       "1                  Rua Potiguara     RJ -22.943199 -43.336911        3   \n",
       "2  Rua Professor Carneiro Felipe     RJ -22.873849 -43.300517        1   \n",
       "3       Avenida Salvador Allende     RJ -22.984787 -43.412703        2   \n",
       "4     Rua Marquês de São Vicente     RJ -14.235004 -51.925280        2   \n",
       "\n",
       "   Suites  Vagas         Tipo Transacao    Valor                     geometry  \n",
       "0       1      3  Apartamento     Venda  1095000  POINT (-43.46295 -23.01646)  \n",
       "1       1      2  Apartamento     Venda   650000  POINT (-43.33691 -22.94320)  \n",
       "2       0      0  Apartamento     Venda   150000  POINT (-43.30052 -22.87385)  \n",
       "3       1      1  Apartamento     Venda   430000  POINT (-43.41270 -22.98479)  \n",
       "4       1      2  Apartamento     Venda  1800000  POINT (-51.92528 -14.23500)  "
      ]
     },
     "execution_count": 22,
     "metadata": {},
     "output_type": "execute_result"
    }
   ],
   "source": [
    "geo_dados.set_geometry('geometry', crs=\"+proj=utm +zone=23 +south +ellps=GRS80 +towgs84=0,0,0,0,0,0,0 +units=km +no_defs \", inplace=True)\n",
    "geo_dados.to_crs(\"+proj=utm +zone=23 +south +ellps=GRS80 +towgs84=0,0,0,0,0,0,0 +units=km +no_defs \", inplace = True)\n",
    "geo_dados.head()"
   ]
  },
  {
   "cell_type": "code",
   "execution_count": 21,
   "metadata": {},
   "outputs": [
    {
     "data": {
      "text/plain": [
       "'+proj=utm +zone=23 +south +ellps=GRS80 +towgs84=0,0,0,0,0,0,0 +units=km +no_defs '"
      ]
     },
     "execution_count": 21,
     "metadata": {},
     "output_type": "execute_result"
    }
   ],
   "source": [
    "rj_munic.crs"
   ]
  },
  {
   "cell_type": "code",
   "execution_count": null,
   "metadata": {},
   "outputs": [],
   "source": [
    "geo_dados.crs"
   ]
  },
  {
   "cell_type": "code",
   "execution_count": null,
   "metadata": {},
   "outputs": [],
   "source": [
    "rj_munic.to_file(\"../GeoPandas - GeoPandas Parte 1/mapas/RJ-MUNIC/rj_munic.shp\")\n",
    "rj_munic = gpd.read_file(\"../GeoPandas - GeoPandas Parte 1/mapas/RJ-MUNIC/rj_munic.shp\")\n",
    "rj_munic.crs"
   ]
  },
  {
   "cell_type": "code",
   "execution_count": null,
   "metadata": {},
   "outputs": [],
   "source": [
    "geo_dados.to_file(\"../GeoPandas - GeoPandas Parte 1/mapas/RJ-MUNIC/geo_dados.shp\")\n",
    "geo_dados = gpd.read_file(\"../GeoPandas - GeoPandas Parte 1/mapas/RJ-MUNIC/geo_dados.shp\")\n",
    "geo_dados.crs"
   ]
  },
  {
   "cell_type": "code",
   "execution_count": null,
   "metadata": {},
   "outputs": [],
   "source": [
    "base = rj_munic.plot(color=\"black\", edgecolor=\"black\", figsize=(15,8))"
   ]
  },
  {
   "cell_type": "code",
   "execution_count": null,
   "metadata": {},
   "outputs": [],
   "source": [
    "geo_dados.plot(ax=base, figsize=(15,8), alpha=0.02 )"
   ]
  },
  {
   "cell_type": "code",
   "execution_count": null,
   "metadata": {},
   "outputs": [],
   "source": []
  }
 ],
 "metadata": {
  "kernelspec": {
   "display_name": "Python 3",
   "language": "python",
   "name": "python3"
  },
  "language_info": {
   "codemirror_mode": {
    "name": "ipython",
    "version": 3
   },
   "file_extension": ".py",
   "mimetype": "text/x-python",
   "name": "python",
   "nbconvert_exporter": "python",
   "pygments_lexer": "ipython3",
   "version": "3.8.3"
  }
 },
 "nbformat": 4,
 "nbformat_minor": 4
}
